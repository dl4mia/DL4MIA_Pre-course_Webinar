{
 "cells": [
  {
   "cell_type": "markdown",
   "metadata": {},
   "source": [
    "<a href=\"https://colab.research.google.com/github/kreshuklab/DL4MIA_Pre-course_Webinar/blob/main/notebooks/1_Intro_to_Image_Analysis.ipynb\" target=\"_parent\"><img src=\"https://colab.research.google.com/assets/colab-badge.svg\" alt=\"Open In Colab\"/></a>"
   ]
  },
  {
   "cell_type": "markdown",
   "metadata": {
    "id": "WCfP8vqqAWNZ"
   },
   "source": [
    "# Image Manipulation Tutorial"
   ]
  },
  {
   "cell_type": "markdown",
   "metadata": {},
   "source": [
    "We are going to work with Kaggle 2018 Data Science Bowl data.  \n",
    "To start with go the [data webpage](https://www.kaggle.com/c/data-science-bowl-2018) and read the data description. To make it easier, we're going to work with a subset of it. "
   ]
  },
  {
   "cell_type": "code",
   "execution_count": null,
   "metadata": {},
   "outputs": [],
   "source": [
    "# run this in google colab to get the visuals used in the notebook\n",
    "!wget https://github.com/kreshuklab/DL4MIA_Pre-course_Webinar/tree/main/images"
   ]
  },
  {
   "cell_type": "markdown",
   "metadata": {},
   "source": [
    "## Downloading the data - Colab \n",
    "If you work with these notebooks using Colab or other environment, you can download data to any location, for example, in the current directory."
   ]
  },
  {
   "cell_type": "code",
   "execution_count": null,
   "metadata": {},
   "outputs": [],
   "source": [
    "import os\n",
    "\n",
    "if os.getenv(\"COLAB_RELEASE_TAG\"):\n",
    "    data_dir = \"./\"\n",
    "else:\n",
    "    raise RuntimeError(\"Skip the entire section 'Downloading the data - Colab' since not running on Google Colab.\")"
   ]
  },
  {
   "cell_type": "markdown",
   "metadata": {
    "id": "H0Q839jSD3MW"
   },
   "source": [
    "Now let's download the data. You  can use the '!' character to enter command line prompts in the notebook."
   ]
  },
  {
   "cell_type": "code",
   "execution_count": null,
   "metadata": {
    "id": "z58CoLEBAPCA"
   },
   "outputs": [],
   "source": [
    "# Data download \n",
    "!wget https://raw.githubusercontent.com/AakashSudhakar/2018-data-science-bowl/master/compressed_files/stage1_train.zip -c"
   ]
  },
  {
   "cell_type": "markdown",
   "metadata": {
    "id": "8UauJx3yE7TL"
   },
   "source": [
    "And please check whether the downloaded archive is around 80M (the value after the progress bar [ <=> ]). If the value is much smaller, rerun the previous cell - probably something failed. \n",
    "\n",
    "Those of you who like bash can play around with unzipping the data into nice folders. The rest of you can just run the following:\n"
   ]
  },
  {
   "cell_type": "code",
   "execution_count": null,
   "metadata": {
    "id": "0x2FqzdGE6ek"
   },
   "outputs": [],
   "source": [
    "!mkdir {data_dir}/nuclei_data && unzip -qq {data_dir}/stage1_train.zip -d {data_dir}/nuclei_data/ && rm {data_dir}/stage1_train.zip"
   ]
  },
  {
   "cell_type": "markdown",
   "metadata": {},
   "source": [
    "## Check the data"
   ]
  },
  {
   "cell_type": "markdown",
   "metadata": {
    "id": "vru7Pc7PFhHZ"
   },
   "source": [
    "Don't forget that you can always check what is happening in your directory using `ls` :"
   ]
  },
  {
   "cell_type": "code",
   "execution_count": null,
   "metadata": {
    "id": "BiSIWiWwFtN2"
   },
   "outputs": [],
   "source": [
    "!ls {data_dir}"
   ]
  },
  {
   "cell_type": "code",
   "execution_count": null,
   "metadata": {
    "id": "s8FrTVajF5XY"
   },
   "outputs": [],
   "source": [
    "!ls {data_dir}/nuclei_data"
   ]
  },
  {
   "cell_type": "markdown",
   "metadata": {
    "id": "Ht7KuL4TF9Fk"
   },
   "source": [
    "Wow, that was a loooot of folders. Hint: you can clear the output of the cell by clicking the 'clear output' button below the 'run cell'.\n",
    "\n",
    "Now let's check what they contain by taking one random folder name:\n",
    "\n",
    "\n"
   ]
  },
  {
   "cell_type": "code",
   "execution_count": null,
   "metadata": {
    "id": "mgvaJ_AoGPNZ"
   },
   "outputs": [],
   "source": [
    "!ls {data_dir}/nuclei_data/eb1df8ed879d04b36980b0958a0e8fc446ad08c0bdcf3b5f42e3db023187c7e5"
   ]
  },
  {
   "cell_type": "code",
   "execution_count": null,
   "metadata": {
    "id": "yhHSytYNGXX6"
   },
   "outputs": [],
   "source": [
    "!ls {data_dir}/nuclei_data/eb1df8ed879d04b36980b0958a0e8fc446ad08c0bdcf3b5f42e3db023187c7e5/images"
   ]
  },
  {
   "cell_type": "markdown",
   "metadata": {
    "id": "0-wQTTJdGdeU"
   },
   "source": [
    "Okay, this one contains a png image. "
   ]
  },
  {
   "cell_type": "markdown",
   "metadata": {},
   "source": [
    "__TASK 1:__ Check other random folder names to make sure the structure is the same."
   ]
  },
  {
   "cell_type": "markdown",
   "metadata": {
    "id": "IsC7r2AVH4oX"
   },
   "source": [
    "## Displaying images\n",
    "\n",
    "Now we want to load some pictures and look at them. For this we would need the following libraries:"
   ]
  },
  {
   "cell_type": "code",
   "execution_count": null,
   "metadata": {
    "id": "NIKaKom4NjJm"
   },
   "outputs": [],
   "source": [
    "# we want to show images directly in the notebook\n",
    "%matplotlib inline\n",
    "import os       # to list folders content\n",
    "import numpy as np    # scientific computing \n",
    "import matplotlib.pyplot as plt   # plotting and visualisation\n",
    "import scipy\n",
    "import skimage    # image processing library, works with images as numpy arrays\n",
    "import skimage.feature\n",
    "import skimage.filters\n",
    "import skimage.io\n",
    "import skimage.morphology\n",
    "import skimage.transform\n",
    "plt.rcParams['figure.figsize'] = [12, 8]  # set default figure size for matplotlib plots"
   ]
  },
  {
   "cell_type": "markdown",
   "metadata": {},
   "source": [
    "### Let's talk about how a computer sees images. \n",
    "\n",
    "As shown in the cat image below for a computer an image is represented as one large 3-dimensional array of numbers. In this example, the cat image is 248 pixels wide, 400 pixels tall, and has three color channels Red,Green,Blue (RGB). Therefore if we inspected the shape of the cat image it would be 400 x 248 x 3 (HWC). The dtype of the image determines what range of values the pixles can take, for example if the cat image has dtype=uint8 then each pixel will have a sinlge integer value in the range 0 (black) to 255 (white).\n"
   ]
  },
  {
   "cell_type": "markdown",
   "metadata": {},
   "source": [
    "<img src=\"../images/Cat_image.png\" width=\"600\" height=\"400\">"
   ]
  },
  {
   "cell_type": "markdown",
   "metadata": {},
   "source": [
    "Now let's take a look at the Kaggle data"
   ]
  },
  {
   "cell_type": "code",
   "execution_count": null,
   "metadata": {
    "id": "WT2jCQQ4PLLl"
   },
   "outputs": [],
   "source": [
    "# Let's load a random image \n",
    "image_path = os.path.join(data_dir, 'nuclei_data/eb1df8ed879d04b36980b0958a0e8fc446ad08c0bdcf3b5f42e3db023187c7e5/images/eb1df8ed879d04b36980b0958a0e8fc446ad08c0bdcf3b5f42e3db023187c7e5.png')\n",
    "image = skimage.io.imread(image_path)"
   ]
  },
  {
   "cell_type": "code",
   "execution_count": null,
   "metadata": {
    "id": "50Lociot2jv7"
   },
   "outputs": [],
   "source": [
    "# Since images are read as numpy arrays, we can check their shape and data type numpy-style\n",
    "print(image.shape) # note that this is an RGBA image (has 4 channels)\n",
    "print(image.dtype)"
   ]
  },
  {
   "cell_type": "code",
   "execution_count": null,
   "metadata": {},
   "outputs": [],
   "source": [
    "# Now let's visualize the image\n",
    "plt.imshow(image)\n",
    "plt.show()"
   ]
  },
  {
   "cell_type": "markdown",
   "metadata": {},
   "source": [
    "### Colormap\n",
    "\n",
    "Read more about colormaps [here] (https://matplotlib.org/stable/tutorials/colors/colormaps.html)"
   ]
  },
  {
   "cell_type": "code",
   "execution_count": null,
   "metadata": {},
   "outputs": [],
   "source": [
    "plt.imshow(image[...,0], cmap=\"magma\")  #Note that we are only showing the first channel of the image\n",
    "plt.axis(\"off\")\n",
    "plt.show()"
   ]
  },
  {
   "cell_type": "markdown",
   "metadata": {},
   "source": [
    "**TASK 2**: How many pixels wide is the Kaggle image?\n",
    "## Plotting and Visualization"
   ]
  },
  {
   "cell_type": "markdown",
   "metadata": {},
   "source": [
    "### Colormap\n",
    "\n",
    "Read more about colormaps [here] (https://matplotlib.org/stable/tutorials/colors/colormaps.html)"
   ]
  },
  {
   "cell_type": "code",
   "execution_count": null,
   "metadata": {},
   "outputs": [],
   "source": [
    "plt.imshow(image[...,0], cmap=\"magma\")  #Note that we are only showing the first channel of the image\n",
    "plt.axis(\"off\")\n",
    "plt.show()"
   ]
  },
  {
   "cell_type": "markdown",
   "metadata": {},
   "source": [
    "### Colorbar\n",
    "Let's have a reference of the intenstiy values as a colorbar"
   ]
  },
  {
   "cell_type": "code",
   "execution_count": null,
   "metadata": {},
   "outputs": [],
   "source": [
    "plt.figure(figsize=(6, 6))\n",
    "plt.imshow(image[...,0], cmap=\"magma\")\n",
    "plt.colorbar()\n",
    "plt.axis(\"off\")\n",
    "plt.show()"
   ]
  },
  {
   "cell_type": "markdown",
   "metadata": {},
   "source": [
    "### Plotting Histograms\n",
    "\n",
    "> -  Let's see the histogram of the intensity values\n",
    "> -  <code>image</code> is a 8-bit image, so the intensity values range from 0 to 255"
   ]
  },
  {
   "cell_type": "code",
   "execution_count": null,
   "metadata": {},
   "outputs": [],
   "source": [
    "plt.figure(figsize=(6, 6))\n",
    "#bins indicate how may unique buclets you might want to put your values in and range is the min and max values in the image \n",
    "#Try different values for bins and range to see how the histogram changes\n",
    "plt.hist(image[...,0].ravel(), bins=16, range=(0.0, image[...,0].max()))\n",
    "plt.xlabel(\"Intensity Value\")\n",
    "plt.ylabel(\"Count\")\n",
    "plt.show()"
   ]
  },
  {
   "cell_type": "markdown",
   "metadata": {},
   "source": [
    "Often (like in this case) we need to deal with multidimensional images, here we have an image that have 4 different z-slices (**stack**)."
   ]
  },
  {
   "cell_type": "code",
   "execution_count": null,
   "metadata": {},
   "outputs": [],
   "source": [
    "fig, ax = plt.subplots(2, 2, figsize=(8, 8))\n",
    "ax[0, 0].imshow(image[...,0], cmap=\"magma\")\n",
    "ax[0, 1].imshow(image[...,1], cmap=\"magma\")\n",
    "ax[1, 0].imshow(image[...,2], cmap=\"magma\")\n",
    "ax[1, 1].imshow(image[...,3], cmap=\"magma\")"
   ]
  },
  {
   "cell_type": "markdown",
   "metadata": {},
   "source": [
    "Here is a more complicated function to plot images. Since we have a list of images, we would like to be able to compare them side by side."
   ]
  },
  {
   "cell_type": "code",
   "execution_count": null,
   "metadata": {},
   "outputs": [],
   "source": [
    "def plot_images_list(images, titles=None, max_value=255):\n",
    "    '''\n",
    "    Plot a list of images.\n",
    "\n",
    "            Parameters:\n",
    "                    images (list): List of 2D numpy arrays\n",
    "                    titles (list): List of string used as titles for the subplots\n",
    "                    max_value (float): Maximum amplitude of the Gaussian.\n",
    "    '''\n",
    "    \n",
    "    # some flexible parameters to adapt the number of rows/cols and size\n",
    "    root = np.sqrt(images.shape[-1]).astype(int)\n",
    "    size = 50 / root  # arbitrary\n",
    "\n",
    "    # if no title was given\n",
    "    if titles is None:\n",
    "        titles = [i for i in range(images.shape[-1])]\n",
    "    \n",
    "    # create subplots\n",
    "    fig, axs = plt.subplots(root, root, figsize=(10, 10))\n",
    "    \n",
    "    # now we populate the subplots with images\n",
    "    for i, ax in enumerate(axs.flatten()):\n",
    "        \n",
    "        if i < images.shape[-1]:\n",
    "            # show image\n",
    "            ax.imshow(images[...,i], vmin=0, vmax=max_value, cmap=\"magma\")            \n",
    "            # add title\n",
    "            ax.set_title(titles[i])\n",
    "            #colorbar\n",
    "            plt.colorbar(ax.imshow(images[...,i], cmap=\"magma\"), ax=ax)\n",
    "        else:\n",
    "            # in case the number of suplots is larger than the number of elements in images\n",
    "            ax.remove()\n",
    "    plt.show()\n",
    "\n",
    "# use plot_images_list to plot multiple images\n",
    "plot_images_list(image)"
   ]
  },
  {
   "cell_type": "code",
   "execution_count": null,
   "metadata": {},
   "outputs": [],
   "source": [
    "plt.figure(figsize=(6, 6))\n",
    "plt.imshow(image[...,0], cmap=\"magma\")\n",
    "plt.colorbar()\n",
    "plt.axis(\"off\")\n",
    "plt.show()"
   ]
  },
  {
   "cell_type": "markdown",
   "metadata": {},
   "source": [
    "### Plotting Histograms\n",
    "\n",
    "> -  Let's see the histogram of the intensity values\n",
    "> -  <code>image</code> is a 8-bit image, so the intensity values range from 0 to 255"
   ]
  },
  {
   "cell_type": "code",
   "execution_count": null,
   "metadata": {},
   "outputs": [],
   "source": [
    "plt.figure(figsize=(6, 6))\n",
    "#bins indicate how may unique buclets you might want to put your values in and range is the min and max values in the image \n",
    "#Try different values for bins and range to see how the histogram changes\n",
    "plt.hist(image[...,0].ravel(), bins=16, range=(0.0, image[...,0].max()))\n",
    "plt.xlabel(\"Intensity Value\")\n",
    "plt.ylabel(\"Count\")\n",
    "plt.show()"
   ]
  },
  {
   "cell_type": "markdown",
   "metadata": {},
   "source": [
    "Often (like in this case) we need to deal with multidimensional images, here we have an image that have 4 different z-slices (**stack**)."
   ]
  },
  {
   "cell_type": "code",
   "execution_count": null,
   "metadata": {},
   "outputs": [],
   "source": [
    "fig, ax = plt.subplots(2, 2, figsize=(8, 8))\n",
    "ax[0, 0].imshow(image[...,0], cmap=\"magma\")\n",
    "ax[0, 1].imshow(image[...,1], cmap=\"magma\")\n",
    "ax[1, 0].imshow(image[...,2], cmap=\"magma\")\n",
    "ax[1, 1].imshow(image[...,3], cmap=\"magma\")"
   ]
  },
  {
   "cell_type": "markdown",
   "metadata": {},
   "source": [
    "Here is a more complicated function to plot images. Since we have a list of images, we would like to be able to compare them side by side."
   ]
  },
  {
   "cell_type": "code",
   "execution_count": null,
   "metadata": {},
   "outputs": [],
   "source": [
    "def plot_images_list(images, titles=None, max_value=255):\n",
    "    '''\n",
    "    Plot a list of images.\n",
    "\n",
    "            Parameters:\n",
    "                    images (list): List of 2D numpy arrays\n",
    "                    titles (list): List of string used as titles for the subplots\n",
    "                    max_value (float): Maximum amplitude of the Gaussian.\n",
    "    '''\n",
    "    \n",
    "    # some flexible parameters to adapt the number of rows/cols and size\n",
    "    root = np.sqrt(images.shape[-1]).astype(int)\n",
    "    size = 50 / root  # arbitrary\n",
    "\n",
    "    # if no title was given\n",
    "    if titles is None:\n",
    "        titles = [i for i in range(images.shape[-1])]\n",
    "    \n",
    "    # create subplots\n",
    "    fig, axs = plt.subplots(root, root, figsize=(10, 10))\n",
    "    \n",
    "    # now we populate the subplots with images\n",
    "    for i, ax in enumerate(axs.flatten()):\n",
    "        \n",
    "        if i < images.shape[-1]:\n",
    "            # show image\n",
    "            ax.imshow(images[...,i], vmin=0, vmax=max_value, cmap=\"magma\")            \n",
    "            # add title\n",
    "            ax.set_title(titles[i])\n",
    "            #colorbar\n",
    "            plt.colorbar(ax.imshow(images[...,i], cmap=\"magma\"), ax=ax)\n",
    "        else:\n",
    "            # in case the number of suplots is larger than the number of elements in images\n",
    "            ax.remove()\n",
    "    plt.show()\n",
    "\n",
    "# use plot_images_list to plot multiple images\n",
    "plot_images_list(image)"
   ]
  },
  {
   "cell_type": "markdown",
   "metadata": {},
   "source": [
    "**TASK 2**: How many pixels wide is the Kaggle image?\n",
    "    What is the maximum possible pixel value?"
   ]
  },
  {
   "cell_type": "markdown",
   "metadata": {},
   "source": [
    "You can check your answers using the following code. Did you get what you expect and can you explain it?"
   ]
  },
  {
   "cell_type": "code",
   "execution_count": null,
   "metadata": {},
   "outputs": [],
   "source": [
    "print(f\"Max pixel value: {image.max()}\")\n",
    "print(f\"Min pixel value: {image.min()}\")"
   ]
  },
  {
   "cell_type": "markdown",
   "metadata": {
    "id": "R8qTyATgTR91"
   },
   "source": [
    "If we want to have a better overview of what is happening in the folder, loading the images one by one is not the best approach. What we will do now is list all the folders we have, and write a function that will load an image file from a random folder."
   ]
  },
  {
   "cell_type": "code",
   "execution_count": null,
   "metadata": {
    "id": "euxX9HSNT5Hc"
   },
   "outputs": [],
   "source": [
    "nuclei_data_path = os.path.join(data_dir, 'nuclei_data')\n",
    "folders_list = os.listdir(nuclei_data_path)  # get the list of all the folders inside nuclei_data\n",
    "print(folders_list[0])   # let's see how the folder names look like"
   ]
  },
  {
   "cell_type": "code",
   "execution_count": null,
   "metadata": {},
   "outputs": [],
   "source": [
    "!ls {data_dir}/nuclei_data/{folders_list[0]}"
   ]
  },
  {
   "cell_type": "markdown",
   "metadata": {},
   "source": [
    "__TASK 3:__ What would be the image path in the show_random_image function?"
   ]
  },
  {
   "cell_type": "code",
   "execution_count": null,
   "metadata": {
    "id": "zTQ2TzSUUwKG"
   },
   "outputs": [],
   "source": [
    "def show_random_image(dir_list):\n",
    "  rand_idx = np.random.randint(0, len(dir_list))   # get a random index\n",
    "  img_name = dir_list[rand_idx] \n",
    "  # Your code here\n",
    "  img_path = ...\n",
    "  random_image = skimage.io.imread(img_path)\n",
    "  plt.imshow(random_image)\n",
    "  plt.show()"
   ]
  },
  {
   "cell_type": "code",
   "execution_count": null,
   "metadata": {
    "id": "zg3pT5bpVvXz"
   },
   "outputs": [],
   "source": [
    "# Now test your function and see how the images in your folder look like\n",
    "show_random_image(folders_list)"
   ]
  },
  {
   "cell_type": "markdown",
   "metadata": {},
   "source": [
    "## Operations on images\n",
    "\n",
    "What can we do with our images? Imagine you have a photo of a teddy bear in front of you. You can **flip**, **rotate**, and **crop** the image. Since images are also data arrays of numerical values, we can also change the **brightness** or **contrast** , or add **noise**. In our deep learning practice, we can use these tricks to provide variants of images to the network. \n",
    "\n",
    "<img src=\"../images/image_transformation.png\" width=\"800\" height=\"700\">\n",
    "\n",
    "Reference: [Shervine Amidi's vlog](https://stanford.edu/~shervine/teaching/cs-230/cheatsheet-deep-learning-tips-and-tricks)"
   ]
  },
  {
   "cell_type": "markdown",
   "metadata": {
    "id": "M62IPj49YBlx"
   },
   "source": [
    "Now let's look more into the operations that you can perform on your image. Firstly, let's write a function that visualises two images at the same time to examine the transformations visually."
   ]
  },
  {
   "cell_type": "code",
   "execution_count": null,
   "metadata": {
    "id": "dyuifTKyUDfD"
   },
   "outputs": [],
   "source": [
    "def show_two_images(image1, image2):\n",
    "    f, axarr = plt.subplots(1, 2)   # we need two images in a row\n",
    "    axarr[0].imshow(image1)\n",
    "    axarr[1].imshow(image2)\n",
    "    _ = [ax.axis('off') for ax in axarr]   # remove the axis ticks\n",
    "    plt.show()"
   ]
  },
  {
   "cell_type": "code",
   "execution_count": null,
   "metadata": {
    "id": "2bTDb9HAZY9x"
   },
   "outputs": [],
   "source": [
    "# Now let's crop the upper left corner of the image and visualize it next to the original image\n",
    "show_two_images(image, image[:100, :100])"
   ]
  },
  {
   "cell_type": "markdown",
   "metadata": {
    "id": "okAFYEtzdWQe"
   },
   "source": [
    "Looks fine. Now let's go through some common image transformations.\n",
    "\n",
    "## Converting to greyscale\n",
    "If you have looked through enough random images from the folder, you might have noticed some of them are colored and some are gray-scale. If we want to build a generic pipeline that processes all of them, we might need to convert the coloured ones to grayscale as well. Also, we will invert the image to have 0 as background and 1 as signal"
   ]
  },
  {
   "cell_type": "code",
   "execution_count": null,
   "metadata": {
    "id": "k6n4gIa15ck6"
   },
   "outputs": [],
   "source": [
    "grey_image = skimage.color.rgb2gray(skimage.color.rgba2rgb(image))\n",
    "print(grey_image.shape) # now we see that 4 channels are gone\n",
    "grey_image = 1 - grey_image\n",
    "show_two_images(image, grey_image)"
   ]
  },
  {
   "cell_type": "markdown",
   "metadata": {
    "id": "5_XShDHT423L"
   },
   "source": [
    "As you can see from the second image, by default matplotlib is using 'viridis' colormap to display grayscale images. \n",
    "\n",
    "**TASK 4**: change the cmap parameter in `imshow` function to display the second image in greyscale (use 'Greys' colormap)\n",
    "\n",
    "## Rescaling image"
   ]
  },
  {
   "cell_type": "code",
   "execution_count": null,
   "metadata": {
    "id": "3rcyG_6aZcYg"
   },
   "outputs": [],
   "source": [
    "rescaled_image = skimage.transform.rescale(grey_image, scale=2, order=0)\n",
    "print(rescaled_image.shape) # the image now is twice larger \n",
    "plt.imshow(rescaled_image, cmap='Greys')\n",
    "plt.show()"
   ]
  },
  {
   "cell_type": "markdown",
   "metadata": {
    "id": "nxzJDkeAfl3E"
   },
   "source": [
    "**TASK 5** : try different interpolation orders. Which orders produce smoother images? \n",
    "\n",
    "Hint: for visualization crop small regions of the image to see more subtle differences (e.g. `show_two_images(img1[:100, :100], img2[:100, :100])`) \n",
    "\n",
    "**TASK 6** : find an skimage function that does the same, but instead of scale factor accepts output shape as a parameter \n",
    "\n",
    "Advanced **TASK 7**: modify `show_two_images` to show n images - given a list of any number of images the function should plot all of them in a row. Visualise multiple interpolations orders at the same time.\n",
    "\n",
    "## Flipping image"
   ]
  },
  {
   "cell_type": "code",
   "execution_count": null,
   "metadata": {
    "id": "vgDIwatCiu7Z"
   },
   "outputs": [],
   "source": [
    "flipped_image = np.flip(image, axis=0)\n",
    "show_two_images(image, flipped_image)"
   ]
  },
  {
   "cell_type": "markdown",
   "metadata": {
    "id": "6ZKy6XpLjmhG"
   },
   "source": [
    "## Rotating image \n",
    "\n",
    "**TASK 8**: use `skimage.transform.rotate` to rotate your image and visualise it\n",
    "\n",
    "\n",
    "**TASK 9**: write a function that given an image and a number N will rotate the image by a random angle in range (0, N) degrees"
   ]
  },
  {
   "cell_type": "code",
   "execution_count": null,
   "metadata": {
    "id": "Wp_aLh_37u15"
   },
   "outputs": [],
   "source": [
    "# Your code here\n",
    "rotated_image = #  Your code here\n",
    "show_two_images(image, rotated_image)"
   ]
  },
  {
   "cell_type": "markdown",
   "metadata": {
    "id": "CaZbAok--f2_"
   },
   "source": [
    "\n",
    "## Thresholding image\n",
    "In simple cases you can get an object mask (segment your object) using plain thresholding + connected components. Let's see how good it works for our images. Note, that here we will work on the greyscale version"
   ]
  },
  {
   "cell_type": "code",
   "execution_count": null,
   "metadata": {
    "id": "KeZ8gJMyXiub"
   },
   "outputs": [],
   "source": [
    "threshold = 0.5\n",
    "thresholded_image = grey_image > threshold \n",
    "cells_labels = skimage.measure.label(thresholded_image)\n",
    "plt.imshow(cells_labels, cmap='nipy_spectral')\n",
    "plt.show()"
   ]
  },
  {
   "cell_type": "markdown",
   "metadata": {
    "id": "25kFDmBMZ8D3"
   },
   "source": [
    "**TASK 10** : try different thresholds. Do you manage to get the objects properly separated? \n",
    "\n",
    "Let's plot a histogram of image values to see whether there is a good cutoff between background and objects"
   ]
  },
  {
   "cell_type": "code",
   "execution_count": null,
   "metadata": {
    "id": "hgUwmt1957vk"
   },
   "outputs": [],
   "source": [
    "plt.hist(grey_image.flatten(), bins=100)\n",
    "plt.show()"
   ]
  },
  {
   "cell_type": "markdown",
   "metadata": {
    "id": "IfPbw4OhfVZd"
   },
   "source": [
    "Doesn't loook like we can define a clear threshold here. Let's try more sophisticated methods\n",
    "\n",
    "**TASK 11** : Smooth the image with Gaussian filter (`skimage.filters.gaussian`) and try different thresholds again. Does it look better?"
   ]
  },
  {
   "cell_type": "code",
   "execution_count": null,
   "metadata": {
    "id": "xws6VGZIfWWZ"
   },
   "outputs": [],
   "source": [
    "gaussian_smoothed_image = skimage.filters.gaussian(grey_image)\n",
    "show_two_images(image, gaussian_smoothed_image)"
   ]
  },
  {
   "cell_type": "markdown",
   "metadata": {
    "id": "uGTwsBdogC8O"
   },
   "source": [
    "The object boundaries look smoother, but there are still many objects we are not able to split fully. "
   ]
  },
  {
   "cell_type": "markdown",
   "metadata": {},
   "source": [
    "**TASK 12** : take a look at other thresholding methods offered by skimage. Hint: many of them can be visualized with `skimage.filters.try_all_threshold`"
   ]
  },
  {
   "cell_type": "markdown",
   "metadata": {
    "id": "8dCojJG9Ij8X"
   },
   "source": [
    "\n",
    "\n",
    "## Morphological Transformations\n",
    "The masks we got out of tresholding look suboptimal. There are small objects and some masks are merged together. We can try to alleviate there problems with such morphological transformation as opening - errosion followed by dilation (a good explanation [here](https://www.youtube.com/watch?v=uUweXBmm978)).\n",
    "\n",
    "Let's see how it looks like."
   ]
  },
  {
   "cell_type": "code",
   "execution_count": null,
   "metadata": {
    "id": "qQ7PUKl-jj12"
   },
   "outputs": [],
   "source": [
    "# we need to set a structuring element (https://www.youtube.com/watch?v=9lqH5XLI-V4)\n",
    "kernel = np.ones((3,3), np.uint8)\n",
    "opened_image = scipy.ndimage.binary_opening(thresholded_image, structure=kernel, iterations=4)\n",
    "show_two_images(thresholded_image, opened_image)\n"
   ]
  },
  {
   "cell_type": "markdown",
   "metadata": {
    "id": "Fo5VqIVomUbr"
   },
   "source": [
    "As we can see, many small object disappeared and some objects got split, but not all.\n",
    "\n",
    "**TASK 13**: try different number of iterations. How does it affect the segmentation masks? \n",
    "\n",
    "**TASK 14**: Try closing (`scipy.ndimage.binary_closing`) to see what it does.\n",
    "\n",
    "## Finding edges \n",
    "We can also try to use image gradients to detect object edges. Let's try to use the [Canny algorithm](https://scikit-image.org/docs/dev/auto_examples/applications/plot_coins_segmentation.html#edge-based-segmentation). "
   ]
  },
  {
   "cell_type": "code",
   "execution_count": null,
   "metadata": {
    "id": "77Hzm59v1B7E"
   },
   "outputs": [],
   "source": [
    "canny_edges = skimage.feature.canny(grey_image, sigma=1) # we get the object boundaries - 'edges'\n",
    "filled_edges = scipy.ndimage.binary_fill_holes(canny_edges) # we fill the inner part to get full objects\n",
    "show_two_images(canny_edges, filled_edges)"
   ]
  },
  {
   "cell_type": "markdown",
   "metadata": {
    "id": "mxGsZ7hEnkm0"
   },
   "source": [
    "While the boundaries seem relatively good, the resulting segmentation is far from perfect, because of the small holes in the boundaries. \n",
    "\n",
    "**TASK 15** : for the Canny detecton try different `sigma`, `low_threshold` and `high_threshold`. Does any combination give good object segmentation?\n",
    "\n",
    "**Advanced TASK 16**: segment the image with the watershed algorithm as described in the \"Segment nuclei\" part of the [Segment human cells tutorial](https://scikit-image.org/docs/dev/auto_examples/applications/plot_human_mitosis.html#segment-nuclei)."
   ]
  },
  {
   "cell_type": "markdown",
   "metadata": {},
   "source": [
    "#### If you want to learn more about the canny algorithm...\n",
    "\n",
    "We first need to cover how image convolution work and will do so in the next notebook. We recommend looking at that part first. If your brain is still itchy, this person explains really well how an edge detection works! \n",
    "\n",
    "1) [Basic of edge detection](https://www.youtube.com/watch?v=uihBwtPIBxM)\n",
    "2) [Canny edge detector](https://www.youtube.com/watch?v=sRFM5IEqR2w)"
   ]
  },
  {
   "cell_type": "markdown",
   "metadata": {},
   "source": []
  }
 ],
 "metadata": {
  "colab": {
   "collapsed_sections": [],
   "include_colab_link": true,
   "name": "image_manipulation.ipynb",
   "provenance": []
  },
  "kernelspec": {
   "display_name": "Python 3 (ipykernel)",
   "language": "python",
   "name": "python3"
  },
  "language_info": {
   "codemirror_mode": {
    "name": "ipython",
    "version": 3
   },
   "file_extension": ".py",
   "mimetype": "text/x-python",
   "name": "python",
   "nbconvert_exporter": "python",
   "pygments_lexer": "ipython3",
   "version": "3.9.12"
  }
 },
 "nbformat": 4,
 "nbformat_minor": 4
}
